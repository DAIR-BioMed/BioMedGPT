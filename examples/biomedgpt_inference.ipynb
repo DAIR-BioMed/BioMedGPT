{
 "cells": [
  {
   "cell_type": "code",
   "execution_count": 1,
   "metadata": {},
   "outputs": [
    {
     "data": {
      "text/plain": [
       "'/mnt/luoyz_dair/OpenBioMed'"
      ]
     },
     "execution_count": 1,
     "metadata": {},
     "output_type": "execute_result"
    }
   ],
   "source": [
    "import os.path as osp\n",
    "import sys\n",
    "path = osp.dirname(osp.abspath(''))\n",
    "sys.path.append(path)\n",
    "sys.path.append(osp.join(path, \"open_biomed\"))\n",
    "path"
   ]
  },
  {
   "cell_type": "markdown",
   "metadata": {},
   "source": [
    "BioMedGPT-10B is composed of a language model (BioMedGPT-LM-7B), a molecule encoder (GraphMVP), a protein encoder (ESM2-3B) and two modality adaptors. For inference, install `config.json`, `special_token_map.json`, `tokenizer_config.json`, `tokenizer.json`, `tokenizer.model` for BioMedGPT-LM-7B [here](https://huggingface.co/PharMolix/BioMedGPT-LM-7B) and put them under `OpenBioMed/ckpts/text_ckpts/biomedgpt-lm-7b`. Install `config.json`, `tokenizer_config.json`, `vocab.txt` for ESM2-3B [here](https://huggingface.co/facebook/esm2_t36_3B_UR50D) and put them under `OpenBioMed/ckpts/text_ckpts/biomedgpt-lm-7b`. Approximately 20GB GPU Memory is required to load BioMedGPT-10B with fp16."
   ]
  },
  {
   "cell_type": "code",
   "execution_count": 2,
   "metadata": {},
   "outputs": [
    {
     "name": "stderr",
     "output_type": "stream",
     "text": [
      "/home/luoyz/.conda/envs/biomedgpt/lib/python3.9/site-packages/tqdm/auto.py:21: TqdmWarning: IProgress not found. Please update jupyter and ipywidgets. See https://ipywidgets.readthedocs.io/en/stable/user_install.html\n",
      "  from .autonotebook import tqdm as notebook_tqdm\n"
     ]
    },
    {
     "name": "stdout",
     "output_type": "stream",
     "text": [
      "Config:  {'name': 'biomedgptv', 'data': {'mol': {'modality': ['structure'], 'featurizer': {'structure': {'name': 'BaseGNN'}}}, 'protein': {'modality': ['structure'], 'featurizer': {'structure': {'name': 'transformertok', 'transformer_type': 'esm', 'model_name_or_path': '/mnt/luoyz_dair/OpenBioMed/ckpts/protein_ckpts/esm2-3b', 'max_length': 1024}}}}, 'network': {'mol': {'gin_hidden_dim': 300, 'gin_num_layers': 5, 'drop_ratio': 0.0, 'max_n_nodes': 256, 'freeze': True}, 'protein': {'model_name_or_path': '/mnt/luoyz_dair/OpenBioMed/ckpts/protein_ckpts/esm2-3b', 'lora': False, 'freeze': True, 'use_float16': True}, 'llm': {'model_name_or_path': '/mnt/luoyz_dair/OpenBioMed/ckpts/text_ckpts/biomedgpt-lm-7b', 'use_float16': True}}}\n"
     ]
    },
    {
     "ename": "FileNotFoundError",
     "evalue": "[Errno 2] No such file or directory: '/mnt/luoyz_dair/OpenBioMed/ckpts/protein_ckpts/esm2-3b/config.json'",
     "output_type": "error",
     "traceback": [
      "\u001b[0;31m---------------------------------------------------------------------------\u001b[0m",
      "\u001b[0;31mFileNotFoundError\u001b[0m                         Traceback (most recent call last)",
      "Cell \u001b[0;32mIn[2], line 13\u001b[0m\n\u001b[1;32m     11\u001b[0m device \u001b[38;5;241m=\u001b[39m torch\u001b[38;5;241m.\u001b[39mdevice(\u001b[38;5;124m\"\u001b[39m\u001b[38;5;124mcuda:0\u001b[39m\u001b[38;5;124m\"\u001b[39m)\n\u001b[1;32m     12\u001b[0m config[\u001b[38;5;124m\"\u001b[39m\u001b[38;5;124mnetwork\u001b[39m\u001b[38;5;124m\"\u001b[39m][\u001b[38;5;124m\"\u001b[39m\u001b[38;5;124mdevice\u001b[39m\u001b[38;5;124m\"\u001b[39m] \u001b[38;5;241m=\u001b[39m device\n\u001b[0;32m---> 13\u001b[0m model \u001b[38;5;241m=\u001b[39m \u001b[43mBioMedGPTV\u001b[49m\u001b[43m(\u001b[49m\u001b[43mconfig\u001b[49m\u001b[43m[\u001b[49m\u001b[38;5;124;43m\"\u001b[39;49m\u001b[38;5;124;43mnetwork\u001b[39;49m\u001b[38;5;124;43m\"\u001b[39;49m\u001b[43m]\u001b[49m\u001b[43m)\u001b[49m\n\u001b[1;32m     14\u001b[0m ckpt \u001b[38;5;241m=\u001b[39m torch\u001b[38;5;241m.\u001b[39mload(\u001b[38;5;124m\"\u001b[39m\u001b[38;5;124m../ckpts/fusion_ckpts/biomedgpt_10b.pth\u001b[39m\u001b[38;5;124m\"\u001b[39m)\n\u001b[1;32m     15\u001b[0m model\u001b[38;5;241m.\u001b[39mload_state_dict(ckpt)\n",
      "File \u001b[0;32m/mnt/luoyz_dair/OpenBioMed/open_biomed/models/multimodal/biomedgpt/biomedgpt.py:102\u001b[0m, in \u001b[0;36mBioMedGPTV.__init__\u001b[0;34m(self, config)\u001b[0m\n\u001b[1;32m     99\u001b[0m     \u001b[39mself\u001b[39m\u001b[39m.\u001b[39mmol_structure_encoder \u001b[39m=\u001b[39m \u001b[39mself\u001b[39m\u001b[39m.\u001b[39mmol_structure_encoder\u001b[39m.\u001b[39meval()\n\u001b[1;32m    101\u001b[0m \u001b[39m# load protein structure encoder\u001b[39;00m\n\u001b[0;32m--> 102\u001b[0m \u001b[39mself\u001b[39m\u001b[39m.\u001b[39mprot_structure_config \u001b[39m=\u001b[39m EsmConfig\u001b[39m.\u001b[39;49mfrom_json_file(os\u001b[39m.\u001b[39;49mpath\u001b[39m.\u001b[39;49mjoin(config[\u001b[39m\"\u001b[39;49m\u001b[39mprotein\u001b[39;49m\u001b[39m\"\u001b[39;49m][\u001b[39m\"\u001b[39;49m\u001b[39mmodel_name_or_path\u001b[39;49m\u001b[39m\"\u001b[39;49m], \u001b[39m\"\u001b[39;49m\u001b[39mconfig.json\u001b[39;49m\u001b[39m\"\u001b[39;49m))\n\u001b[1;32m    103\u001b[0m \u001b[39mself\u001b[39m\u001b[39m.\u001b[39mprot_structure_encoder \u001b[39m=\u001b[39m EsmModel(\u001b[39mself\u001b[39m\u001b[39m.\u001b[39mprot_structure_config)\n\u001b[1;32m    104\u001b[0m \u001b[39mif\u001b[39;00m config[\u001b[39m\"\u001b[39m\u001b[39mprotein\u001b[39m\u001b[39m\"\u001b[39m][\u001b[39m\"\u001b[39m\u001b[39muse_float16\u001b[39m\u001b[39m\"\u001b[39m]:\n",
      "File \u001b[0;32m~/.conda/envs/biomedgpt/lib/python3.9/site-packages/transformers/configuration_utils.py:787\u001b[0m, in \u001b[0;36mPretrainedConfig.from_json_file\u001b[0;34m(cls, json_file)\u001b[0m\n\u001b[1;32m    774\u001b[0m \u001b[39m@classmethod\u001b[39m\n\u001b[1;32m    775\u001b[0m \u001b[39mdef\u001b[39;00m \u001b[39mfrom_json_file\u001b[39m(\u001b[39mcls\u001b[39m, json_file: Union[\u001b[39mstr\u001b[39m, os\u001b[39m.\u001b[39mPathLike]) \u001b[39m-\u001b[39m\u001b[39m>\u001b[39m \u001b[39m\"\u001b[39m\u001b[39mPretrainedConfig\u001b[39m\u001b[39m\"\u001b[39m:\n\u001b[1;32m    776\u001b[0m \u001b[39m    \u001b[39m\u001b[39m\"\"\"\u001b[39;00m\n\u001b[1;32m    777\u001b[0m \u001b[39m    Instantiates a [`PretrainedConfig`] from the path to a JSON file of parameters.\u001b[39;00m\n\u001b[1;32m    778\u001b[0m \n\u001b[0;32m   (...)\u001b[0m\n\u001b[1;32m    785\u001b[0m \n\u001b[1;32m    786\u001b[0m \u001b[39m    \"\"\"\u001b[39;00m\n\u001b[0;32m--> 787\u001b[0m     config_dict \u001b[39m=\u001b[39m \u001b[39mcls\u001b[39;49m\u001b[39m.\u001b[39;49m_dict_from_json_file(json_file)\n\u001b[1;32m    788\u001b[0m     \u001b[39mreturn\u001b[39;00m \u001b[39mcls\u001b[39m(\u001b[39m*\u001b[39m\u001b[39m*\u001b[39mconfig_dict)\n",
      "File \u001b[0;32m~/.conda/envs/biomedgpt/lib/python3.9/site-packages/transformers/configuration_utils.py:792\u001b[0m, in \u001b[0;36mPretrainedConfig._dict_from_json_file\u001b[0;34m(cls, json_file)\u001b[0m\n\u001b[1;32m    790\u001b[0m \u001b[39m@classmethod\u001b[39m\n\u001b[1;32m    791\u001b[0m \u001b[39mdef\u001b[39;00m \u001b[39m_dict_from_json_file\u001b[39m(\u001b[39mcls\u001b[39m, json_file: Union[\u001b[39mstr\u001b[39m, os\u001b[39m.\u001b[39mPathLike]):\n\u001b[0;32m--> 792\u001b[0m     \u001b[39mwith\u001b[39;00m \u001b[39mopen\u001b[39;49m(json_file, \u001b[39m\"\u001b[39;49m\u001b[39mr\u001b[39;49m\u001b[39m\"\u001b[39;49m, encoding\u001b[39m=\u001b[39;49m\u001b[39m\"\u001b[39;49m\u001b[39mutf-8\u001b[39;49m\u001b[39m\"\u001b[39;49m) \u001b[39mas\u001b[39;00m reader:\n\u001b[1;32m    793\u001b[0m         text \u001b[39m=\u001b[39m reader\u001b[39m.\u001b[39mread()\n\u001b[1;32m    794\u001b[0m     \u001b[39mreturn\u001b[39;00m json\u001b[39m.\u001b[39mloads(text)\n",
      "\u001b[0;31mFileNotFoundError\u001b[0m: [Errno 2] No such file or directory: '/mnt/luoyz_dair/OpenBioMed/ckpts/protein_ckpts/esm2-3b/config.json'"
     ]
    }
   ],
   "source": [
    "# load biomedgpt model\n",
    "import json\n",
    "import torch\n",
    "from open_biomed.utils import fix_path_in_config\n",
    "from open_biomed.models.multimodal import BioMedGPTV\n",
    "\n",
    "config = json.load(open(\"../configs/encoders/multimodal/biomedgptv.json\", \"r\"))\n",
    "fix_path_in_config(config, path)\n",
    "print(\"Config: \", config)\n",
    "\n",
    "device = torch.device(\"cuda:0\")\n",
    "config[\"network\"][\"device\"] = device\n",
    "model = BioMedGPTV(config[\"network\"])\n",
    "ckpt = torch.load(\"../ckpts/fusion_ckpts/biomedgpt_10b.pth\")\n",
    "model.load_state_dict(ckpt)\n",
    "model = model.to(device)\n",
    "model.eval()\n",
    "print(\"Finish loading model\")"
   ]
  },
  {
   "cell_type": "code",
   "execution_count": 5,
   "metadata": {},
   "outputs": [
    {
     "name": "stdout",
     "output_type": "stream",
     "text": [
      "Human:  Please describe this molecule.\n",
      "Assistant:  The molecule is a member of the class of flavonoids that is 3-hydroxyflavone substituted by a 3-hydroxy-4-methoxyphenyl group at position 7. It has a role as a plant metabolite. It is a member of flavonoids, a member of 3-hydroxyflavones and a member of 3-hydroxyflavones. It derives from a 3-hydroxyflavone.\n"
     ]
    }
   ],
   "source": [
    "# chat\n",
    "from open_biomed.utils.chat_utils import Conversation\n",
    "\n",
    "prompt_sys = \"You are working as an excellent assistant in chemistry and molecule discovery. \" + \\\n",
    "             \"Below a human expert gives the representation of a molecule or a protein. Answer questions about it. \"\n",
    "chat = Conversation(\n",
    "    model=model, \n",
    "    processor_config=config[\"data\"], \n",
    "    device=device,\n",
    "    system=prompt_sys,\n",
    "    roles=(\"Human\", \"Assistant\"),\n",
    "    sep=\"###\",\n",
    "    max_length=2048\n",
    ")\n",
    "chat.append_molecule(\"CC(=CCC1=CC(=CC(=C1O)CC=C(C)C)/C=C/C(=O)C2=C(C=C(C=C2)O)O)C\")\n",
    "question = \"Please describe this molecule.\"\n",
    "print(\"Human: \", question)\n",
    "chat.ask(question)\n",
    "print(\"Assistant: \", chat.answer()[0])"
   ]
  },
  {
   "cell_type": "code",
   "execution_count": 6,
   "metadata": {},
   "outputs": [
    {
     "name": "stdout",
     "output_type": "stream",
     "text": [
      "Human:  What is the function of this protein?\n",
      "Assistant:  One of the essential components for the initiation of protein synthesis.  Stabilizes the binding of IF-2 and IF-3 on the 30S subunit to which N-formylmethionyl-tRNA(fMet) subsequently binds.  Helps modulate mRNA selection, yielding the 30S pre-initiation complex (PIC).  Upon addition of the 50S ribosomal subunit IF-1, IF-2 and IF-3 are released leaving the mature 70S translation initiation complex.\n"
     ]
    }
   ],
   "source": [
    "chat.reset()\n",
    "chat.append_protein(\"MAKEDTLEFPGVVKELLPNATFRVELDNGHELIAVMAGKMRKNRIRVLAGDKVQVEMTPYDLSKGRINYRFK\")\n",
    "question = \"What is the function of this protein?\"\n",
    "print(\"Human: \", question)\n",
    "chat.ask(question)\n",
    "print(\"Assistant: \", chat.answer()[0])"
   ]
  }
 ],
 "metadata": {
  "kernelspec": {
   "display_name": "Python 3.9.17 ('biomedgpt')",
   "language": "python",
   "name": "python3"
  },
  "language_info": {
   "codemirror_mode": {
    "name": "ipython",
    "version": 3
   },
   "file_extension": ".py",
   "mimetype": "text/x-python",
   "name": "python",
   "nbconvert_exporter": "python",
   "pygments_lexer": "ipython3",
   "version": "3.9.17"
  },
  "orig_nbformat": 4,
  "vscode": {
   "interpreter": {
    "hash": "5fbd8d22c16f34e321c30f54b15d96f9da9d2be90b6d3d0d78fbecae1315a862"
   }
  }
 },
 "nbformat": 4,
 "nbformat_minor": 2
}
